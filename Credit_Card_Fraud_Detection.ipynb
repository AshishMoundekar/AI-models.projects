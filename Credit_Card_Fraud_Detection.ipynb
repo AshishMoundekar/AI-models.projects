{
  "cells": [
    {
      "cell_type": "markdown",
      "metadata": {
        "id": "view-in-github",
        "colab_type": "text"
      },
      "source": [
        "<a href=\"https://colab.research.google.com/github/AshishMoundekar/AI-models.projects/blob/main/Credit_Card_Fraud_Detection.ipynb\" target=\"_parent\"><img src=\"https://colab.research.google.com/assets/colab-badge.svg\" alt=\"Open In Colab\"/></a>"
      ]
    },
    {
      "cell_type": "code",
      "execution_count": null,
      "metadata": {
        "colab": {
          "base_uri": "https://localhost:8080/"
        },
        "id": "kHR_8Y3BA5eA",
        "outputId": "defbadde-ae81-4fbc-8f19-fbe479ca0ce9"
      },
      "outputs": [
        {
          "name": "stdout",
          "output_type": "stream",
          "text": [
            "Drive already mounted at /content/drive; to attempt to forcibly remount, call drive.mount(\"/content/drive\", force_remount=True).\n"
          ]
        }
      ],
      "source": [
        "from google.colab import drive\n",
        "drive.mount('/content/drive')"
      ]
    },
    {
      "cell_type": "code",
      "execution_count": null,
      "metadata": {
        "colab": {
          "base_uri": "https://localhost:8080/"
        },
        "id": "JHhT9YI8BvEN",
        "outputId": "eb43bd41-6a58-46d6-ac9f-22d9d26c5520"
      },
      "outputs": [
        {
          "name": "stdout",
          "output_type": "stream",
          "text": [
            "  trans_date_trans_time            cc_num                            merchant  \\\n",
            "0   2019-01-01 00:00:18  2703186189652095          fraud_Rippin, Kub and Mann   \n",
            "1   2019-01-01 00:00:44      630423337322     fraud_Heller, Gutmann and Zieme   \n",
            "2   2019-01-01 00:00:51    38859492057661                fraud_Lind-Buckridge   \n",
            "3   2019-01-01 00:01:16  3534093764340240  fraud_Kutch, Hermiston and Farrell   \n",
            "4   2019-01-01 00:03:06   375534208663984                 fraud_Keeling-Crist   \n",
            "\n",
            "        category     amt      first     last gender  \\\n",
            "0       misc_net    4.97   Jennifer    Banks      F   \n",
            "1    grocery_pos  107.23  Stephanie     Gill      F   \n",
            "2  entertainment  220.11     Edward  Sanchez      M   \n",
            "3  gas_transport   45.00     Jeremy    White      M   \n",
            "4       misc_pos   41.96      Tyler   Garcia      M   \n",
            "\n",
            "                         street            city  ...      lat      long  \\\n",
            "0                561 Perry Cove  Moravian Falls  ...  36.0788  -81.1781   \n",
            "1  43039 Riley Greens Suite 393          Orient  ...  48.8878 -118.2105   \n",
            "2      594 White Dale Suite 530      Malad City  ...  42.1808 -112.2620   \n",
            "3   9443 Cynthia Court Apt. 038         Boulder  ...  46.2306 -112.1138   \n",
            "4              408 Bradley Rest        Doe Hill  ...  38.4207  -79.4629   \n",
            "\n",
            "   city_pop                                job         dob  \\\n",
            "0      3495          Psychologist, counselling  1988-03-09   \n",
            "1       149  Special educational needs teacher  1978-06-21   \n",
            "2      4154        Nature conservation officer  1962-01-19   \n",
            "3      1939                    Patent attorney  1967-01-12   \n",
            "4        99     Dance movement psychotherapist  1986-03-28   \n",
            "\n",
            "                          trans_num   unix_time  merch_lat  merch_long  \\\n",
            "0  0b242abb623afc578575680df30655b9  1325376018  36.011293  -82.048315   \n",
            "1  1f76529f8574734946361c461b024d99  1325376044  49.159047 -118.186462   \n",
            "2  a1a22d70485983eac12b5b88dad1cf95  1325376051  43.150704 -112.154481   \n",
            "3  6b849c168bdad6f867558c3793159a81  1325376076  47.034331 -112.561071   \n",
            "4  a41d7549acf90789359a9aa5346dcb46  1325376186  38.674999  -78.632459   \n",
            "\n",
            "   is_fraud  \n",
            "0         0  \n",
            "1         0  \n",
            "2         0  \n",
            "3         0  \n",
            "4         0  \n",
            "\n",
            "[5 rows x 22 columns]\n"
          ]
        }
      ],
      "source": [
        "import pandas as pd\n",
        "\n",
        "# Load data\n",
        "train_df = pd.read_csv('/content/drive/MyDrive/Datasets/CC_dataset/fraudTrain.csv', index_col=0)\n",
        "\n",
        "# Inspect data\n",
        "print(train_df.head())"
      ]
    },
    {
      "cell_type": "code",
      "execution_count": null,
      "metadata": {
        "colab": {
          "base_uri": "https://localhost:8080/"
        },
        "id": "yVt8BXiqCmB0",
        "outputId": "650fcfb3-c02b-40df-bac4-4fde65e90552"
      },
      "outputs": [
        {
          "name": "stdout",
          "output_type": "stream",
          "text": [
            "<class 'pandas.core.frame.DataFrame'>\n",
            "Index: 1296675 entries, 0 to 1296674\n",
            "Data columns (total 22 columns):\n",
            " #   Column                 Non-Null Count    Dtype  \n",
            "---  ------                 --------------    -----  \n",
            " 0   trans_date_trans_time  1296675 non-null  object \n",
            " 1   cc_num                 1296675 non-null  int64  \n",
            " 2   merchant               1296675 non-null  object \n",
            " 3   category               1296675 non-null  object \n",
            " 4   amt                    1296675 non-null  float64\n",
            " 5   first                  1296675 non-null  object \n",
            " 6   last                   1296675 non-null  object \n",
            " 7   gender                 1296675 non-null  object \n",
            " 8   street                 1296675 non-null  object \n",
            " 9   city                   1296675 non-null  object \n",
            " 10  state                  1296675 non-null  object \n",
            " 11  zip                    1296675 non-null  int64  \n",
            " 12  lat                    1296675 non-null  float64\n",
            " 13  long                   1296675 non-null  float64\n",
            " 14  city_pop               1296675 non-null  int64  \n",
            " 15  job                    1296675 non-null  object \n",
            " 16  dob                    1296675 non-null  object \n",
            " 17  trans_num              1296675 non-null  object \n",
            " 18  unix_time              1296675 non-null  int64  \n",
            " 19  merch_lat              1296675 non-null  float64\n",
            " 20  merch_long             1296675 non-null  float64\n",
            " 21  is_fraud               1296675 non-null  int64  \n",
            "dtypes: float64(5), int64(5), object(12)\n",
            "memory usage: 227.5+ MB\n",
            "None\n"
          ]
        }
      ],
      "source": [
        "print(train_df.info())"
      ]
    },
    {
      "cell_type": "code",
      "execution_count": null,
      "metadata": {
        "colab": {
          "base_uri": "https://localhost:8080/"
        },
        "id": "rI5100a3Cm0v",
        "outputId": "37db8cd9-c298-4981-f343-0cc45f8d63f4"
      },
      "outputs": [
        {
          "name": "stdout",
          "output_type": "stream",
          "text": [
            "             cc_num           amt           zip           lat          long  \\\n",
            "count  1.296675e+06  1.296675e+06  1.296675e+06  1.296675e+06  1.296675e+06   \n",
            "mean   4.171920e+17  7.035104e+01  4.880067e+04  3.853762e+01 -9.022634e+01   \n",
            "std    1.308806e+18  1.603160e+02  2.689322e+04  5.075808e+00  1.375908e+01   \n",
            "min    6.041621e+10  1.000000e+00  1.257000e+03  2.002710e+01 -1.656723e+02   \n",
            "25%    1.800429e+14  9.650000e+00  2.623700e+04  3.462050e+01 -9.679800e+01   \n",
            "50%    3.521417e+15  4.752000e+01  4.817400e+04  3.935430e+01 -8.747690e+01   \n",
            "75%    4.642255e+15  8.314000e+01  7.204200e+04  4.194040e+01 -8.015800e+01   \n",
            "max    4.992346e+18  2.894890e+04  9.978300e+04  6.669330e+01 -6.795030e+01   \n",
            "\n",
            "           city_pop     unix_time     merch_lat    merch_long      is_fraud  \n",
            "count  1.296675e+06  1.296675e+06  1.296675e+06  1.296675e+06  1.296675e+06  \n",
            "mean   8.882444e+04  1.349244e+09  3.853734e+01 -9.022646e+01  5.788652e-03  \n",
            "std    3.019564e+05  1.284128e+07  5.109788e+00  1.377109e+01  7.586269e-02  \n",
            "min    2.300000e+01  1.325376e+09  1.902779e+01 -1.666712e+02  0.000000e+00  \n",
            "25%    7.430000e+02  1.338751e+09  3.473357e+01 -9.689728e+01  0.000000e+00  \n",
            "50%    2.456000e+03  1.349250e+09  3.936568e+01 -8.743839e+01  0.000000e+00  \n",
            "75%    2.032800e+04  1.359385e+09  4.195716e+01 -8.023680e+01  0.000000e+00  \n",
            "max    2.906700e+06  1.371817e+09  6.751027e+01 -6.695090e+01  1.000000e+00  \n"
          ]
        }
      ],
      "source": [
        "print(train_df.describe())"
      ]
    },
    {
      "cell_type": "code",
      "execution_count": null,
      "metadata": {
        "colab": {
          "base_uri": "https://localhost:8080/"
        },
        "id": "doxwq7OtRadB",
        "outputId": "b4f39f9f-0d35-4157-9ee5-d7f0e319c0f5"
      },
      "outputs": [
        {
          "name": "stdout",
          "output_type": "stream",
          "text": [
            "trans_date_trans_time    0\n",
            "cc_num                   0\n",
            "merchant                 0\n",
            "category                 0\n",
            "amt                      0\n",
            "first                    0\n",
            "last                     0\n",
            "gender                   0\n",
            "street                   0\n",
            "city                     0\n",
            "state                    0\n",
            "zip                      0\n",
            "lat                      0\n",
            "long                     0\n",
            "city_pop                 0\n",
            "job                      0\n",
            "dob                      0\n",
            "trans_num                0\n",
            "unix_time                0\n",
            "merch_lat                0\n",
            "merch_long               0\n",
            "is_fraud                 0\n",
            "dtype: int64\n"
          ]
        }
      ],
      "source": [
        "print(train_df.isnull().sum())"
      ]
    },
    {
      "cell_type": "code",
      "execution_count": null,
      "metadata": {
        "colab": {
          "base_uri": "https://localhost:8080/"
        },
        "id": "5Iup93p4CTCj",
        "outputId": "ac177f01-3e59-419a-e041-3061cec59e9c"
      },
      "outputs": [
        {
          "name": "stdout",
          "output_type": "stream",
          "text": [
            "  trans_date_trans_time            cc_num  \\\n",
            "0   2020-06-21 12:14:25  2291163933867244   \n",
            "1   2020-06-21 12:14:33  3573030041201292   \n",
            "2   2020-06-21 12:14:53  3598215285024754   \n",
            "3   2020-06-21 12:15:15  3591919803438423   \n",
            "4   2020-06-21 12:15:17  3526826139003047   \n",
            "\n",
            "                               merchant        category    amt   first  \\\n",
            "0                 fraud_Kirlin and Sons   personal_care   2.86    Jeff   \n",
            "1                  fraud_Sporer-Keebler   personal_care  29.84  Joanne   \n",
            "2  fraud_Swaniawski, Nitzsche and Welch  health_fitness  41.28  Ashley   \n",
            "3                     fraud_Haley Group        misc_pos  60.05   Brian   \n",
            "4                 fraud_Johnston-Casper          travel   3.19  Nathan   \n",
            "\n",
            "       last gender                       street        city  ...      lat  \\\n",
            "0   Elliott      M            351 Darlene Green    Columbia  ...  33.9659   \n",
            "1  Williams      F             3638 Marsh Union     Altonah  ...  40.3207   \n",
            "2     Lopez      F         9333 Valentine Point    Bellmore  ...  40.6729   \n",
            "3  Williams      M  32941 Krystal Mill Apt. 552  Titusville  ...  28.5697   \n",
            "4    Massey      M     5783 Evan Roads Apt. 465    Falmouth  ...  44.2529   \n",
            "\n",
            "       long  city_pop                     job         dob  \\\n",
            "0  -80.9355    333497     Mechanical engineer  1968-03-19   \n",
            "1 -110.4360       302  Sales professional, IT  1990-01-17   \n",
            "2  -73.5365     34496       Librarian, public  1970-10-21   \n",
            "3  -80.8191     54767            Set designer  1987-07-25   \n",
            "4  -85.0170      1126      Furniture designer  1955-07-06   \n",
            "\n",
            "                          trans_num   unix_time  merch_lat  merch_long  \\\n",
            "0  2da90c7d74bd46a0caf3777415b3ebd3  1371816865  33.986391  -81.200714   \n",
            "1  324cc204407e99f51b0d6ca0055005e7  1371816873  39.450498 -109.960431   \n",
            "2  c81755dbbbea9d5c77f094348a7579be  1371816893  40.495810  -74.196111   \n",
            "3  2159175b9efe66dc301f149d3d5abf8c  1371816915  28.812398  -80.883061   \n",
            "4  57ff021bd3f328f8738bb535c302a31b  1371816917  44.959148  -85.884734   \n",
            "\n",
            "   is_fraud  \n",
            "0         0  \n",
            "1         0  \n",
            "2         0  \n",
            "3         0  \n",
            "4         0  \n",
            "\n",
            "[5 rows x 22 columns]\n"
          ]
        }
      ],
      "source": [
        "test_df = pd.read_csv('/content/drive/MyDrive/Datasets/CC_dataset/fraudTest.csv', index_col=0)\n",
        "\n",
        "print(test_df.head())"
      ]
    },
    {
      "cell_type": "code",
      "execution_count": null,
      "metadata": {
        "colab": {
          "base_uri": "https://localhost:8080/"
        },
        "id": "BvvnZfQ6Cy1X",
        "outputId": "311ff748-1d0d-4b6f-fe34-e33d3de718db"
      },
      "outputs": [
        {
          "name": "stdout",
          "output_type": "stream",
          "text": [
            "<class 'pandas.core.frame.DataFrame'>\n",
            "Index: 555719 entries, 0 to 555718\n",
            "Data columns (total 22 columns):\n",
            " #   Column                 Non-Null Count   Dtype  \n",
            "---  ------                 --------------   -----  \n",
            " 0   trans_date_trans_time  555719 non-null  object \n",
            " 1   cc_num                 555719 non-null  int64  \n",
            " 2   merchant               555719 non-null  object \n",
            " 3   category               555719 non-null  object \n",
            " 4   amt                    555719 non-null  float64\n",
            " 5   first                  555719 non-null  object \n",
            " 6   last                   555719 non-null  object \n",
            " 7   gender                 555719 non-null  object \n",
            " 8   street                 555719 non-null  object \n",
            " 9   city                   555719 non-null  object \n",
            " 10  state                  555719 non-null  object \n",
            " 11  zip                    555719 non-null  int64  \n",
            " 12  lat                    555719 non-null  float64\n",
            " 13  long                   555719 non-null  float64\n",
            " 14  city_pop               555719 non-null  int64  \n",
            " 15  job                    555719 non-null  object \n",
            " 16  dob                    555719 non-null  object \n",
            " 17  trans_num              555719 non-null  object \n",
            " 18  unix_time              555719 non-null  int64  \n",
            " 19  merch_lat              555719 non-null  float64\n",
            " 20  merch_long             555719 non-null  float64\n",
            " 21  is_fraud               555719 non-null  int64  \n",
            "dtypes: float64(5), int64(5), object(12)\n",
            "memory usage: 97.5+ MB\n",
            "None\n"
          ]
        }
      ],
      "source": [
        "print(test_df.info())"
      ]
    },
    {
      "cell_type": "code",
      "execution_count": null,
      "metadata": {
        "colab": {
          "base_uri": "https://localhost:8080/"
        },
        "id": "9L4fpSXvC0Ve",
        "outputId": "7c0e0c67-db4d-4a27-938d-2c982f268ff1"
      },
      "outputs": [
        {
          "name": "stdout",
          "output_type": "stream",
          "text": [
            "             cc_num            amt            zip            lat  \\\n",
            "count  5.557190e+05  555719.000000  555719.000000  555719.000000   \n",
            "mean   4.178387e+17      69.392810   48842.628015      38.543253   \n",
            "std    1.309837e+18     156.745941   26855.283328       5.061336   \n",
            "min    6.041621e+10       1.000000    1257.000000      20.027100   \n",
            "25%    1.800429e+14       9.630000   26292.000000      34.668900   \n",
            "50%    3.521417e+15      47.290000   48174.000000      39.371600   \n",
            "75%    4.635331e+15      83.010000   72011.000000      41.894800   \n",
            "max    4.992346e+18   22768.110000   99921.000000      65.689900   \n",
            "\n",
            "                long      city_pop     unix_time      merch_lat  \\\n",
            "count  555719.000000  5.557190e+05  5.557190e+05  555719.000000   \n",
            "mean      -90.231325  8.822189e+04  1.380679e+09      38.542798   \n",
            "std        13.721780  3.003909e+05  5.201104e+06       5.095829   \n",
            "min      -165.672300  2.300000e+01  1.371817e+09      19.027422   \n",
            "25%       -96.798000  7.410000e+02  1.376029e+09      34.755302   \n",
            "50%       -87.476900  2.408000e+03  1.380762e+09      39.376593   \n",
            "75%       -80.175200  1.968500e+04  1.385867e+09      41.954163   \n",
            "max       -67.950300  2.906700e+06  1.388534e+09      66.679297   \n",
            "\n",
            "          merch_long       is_fraud  \n",
            "count  555719.000000  555719.000000  \n",
            "mean      -90.231380       0.003860  \n",
            "std        13.733071       0.062008  \n",
            "min      -166.671575       0.000000  \n",
            "25%       -96.905129       0.000000  \n",
            "50%       -87.445204       0.000000  \n",
            "75%       -80.264637       0.000000  \n",
            "max       -66.952026       1.000000  \n"
          ]
        }
      ],
      "source": [
        "print(test_df.describe())"
      ]
    },
    {
      "cell_type": "code",
      "execution_count": null,
      "metadata": {
        "colab": {
          "base_uri": "https://localhost:8080/"
        },
        "id": "WVQCBkiMC9lq",
        "outputId": "d2baa356-a360-4a22-eac9-93ab6cee4ff9"
      },
      "outputs": [
        {
          "name": "stdout",
          "output_type": "stream",
          "text": [
            "trans_date_trans_time    0\n",
            "cc_num                   0\n",
            "merchant                 0\n",
            "category                 0\n",
            "amt                      0\n",
            "first                    0\n",
            "last                     0\n",
            "gender                   0\n",
            "street                   0\n",
            "city                     0\n",
            "state                    0\n",
            "zip                      0\n",
            "lat                      0\n",
            "long                     0\n",
            "city_pop                 0\n",
            "job                      0\n",
            "dob                      0\n",
            "trans_num                0\n",
            "unix_time                0\n",
            "merch_lat                0\n",
            "merch_long               0\n",
            "is_fraud                 0\n",
            "dtype: int64\n"
          ]
        }
      ],
      "source": [
        "print(test_df.isnull().sum())"
      ]
    },
    {
      "cell_type": "code",
      "execution_count": null,
      "metadata": {
        "id": "Ec17YbufDBzz"
      },
      "outputs": [],
      "source": [
        "# Columns to drop\n",
        "drop_cols = ['trans_num', 'cc_num', 'first', 'last', 'street', 'zip', 'dob']"
      ]
    },
    {
      "cell_type": "code",
      "execution_count": null,
      "metadata": {
        "id": "E_fxSqFGDKi4"
      },
      "outputs": [],
      "source": [
        "# Drop from train and test data\n",
        "X_train = train_df.drop(drop_cols + ['is_fraud'], axis=1)\n",
        "y_train = train_df['is_fraud']"
      ]
    },
    {
      "cell_type": "code",
      "execution_count": null,
      "metadata": {
        "id": "ddPvVZSIDPS1"
      },
      "outputs": [],
      "source": [
        "X_test = test_df.drop(drop_cols + ['is_fraud'], axis=1)\n",
        "y_test = test_df['is_fraud']"
      ]
    },
    {
      "cell_type": "code",
      "execution_count": null,
      "metadata": {
        "id": "UpEIavl3Djq3"
      },
      "outputs": [],
      "source": [
        "# Convert transaction date to datetime and extract new features\n",
        "X_train['trans_date_trans_time'] = pd.to_datetime(X_train['trans_date_trans_time'])\n",
        "X_train['hour'] = X_train['trans_date_trans_time'].dt.hour\n",
        "X_train['day_of_week'] = X_train['trans_date_trans_time'].dt.dayofweek\n",
        "\n",
        "# Drop original date column if not needed\n",
        "X_train = X_train.drop(['trans_date_trans_time', 'unix_time'], axis=1)"
      ]
    },
    {
      "cell_type": "code",
      "execution_count": null,
      "metadata": {
        "id": "L367Wws9Fuh8"
      },
      "outputs": [],
      "source": [
        "\n",
        "X_test['trans_date_trans_time'] = pd.to_datetime(X_test['trans_date_trans_time'])\n",
        "X_test['hour'] = X_test['trans_date_trans_time'].dt.hour\n",
        "X_test['day_of_week'] = X_test['trans_date_trans_time'].dt.dayofweek\n",
        "\n",
        "\n",
        "X_test = X_test.drop(['trans_date_trans_time', 'unix_time'], axis=1)"
      ]
    },
    {
      "cell_type": "code",
      "execution_count": null,
      "metadata": {
        "colab": {
          "base_uri": "https://localhost:8080/"
        },
        "id": "JaM4A33_Nbn8",
        "outputId": "f652a205-fcab-49b4-a8ed-07fdd3936080"
      },
      "outputs": [
        {
          "name": "stdout",
          "output_type": "stream",
          "text": [
            "                             merchant       category     amt gender  \\\n",
            "0          fraud_Rippin, Kub and Mann       misc_net    4.97      F   \n",
            "1     fraud_Heller, Gutmann and Zieme    grocery_pos  107.23      F   \n",
            "2                fraud_Lind-Buckridge  entertainment  220.11      M   \n",
            "3  fraud_Kutch, Hermiston and Farrell  gas_transport   45.00      M   \n",
            "4                 fraud_Keeling-Crist       misc_pos   41.96      M   \n",
            "\n",
            "             city state      lat      long  city_pop  \\\n",
            "0  Moravian Falls    NC  36.0788  -81.1781      3495   \n",
            "1          Orient    WA  48.8878 -118.2105       149   \n",
            "2      Malad City    ID  42.1808 -112.2620      4154   \n",
            "3         Boulder    MT  46.2306 -112.1138      1939   \n",
            "4        Doe Hill    VA  38.4207  -79.4629        99   \n",
            "\n",
            "                                 job  merch_lat  merch_long  hour  day_of_week  \n",
            "0          Psychologist, counselling  36.011293  -82.048315     0            1  \n",
            "1  Special educational needs teacher  49.159047 -118.186462     0            1  \n",
            "2        Nature conservation officer  43.150704 -112.154481     0            1  \n",
            "3                    Patent attorney  47.034331 -112.561071     0            1  \n",
            "4     Dance movement psychotherapist  38.674999  -78.632459     0            1  \n"
          ]
        }
      ],
      "source": [
        "print(X_train.head())"
      ]
    },
    {
      "cell_type": "code",
      "execution_count": null,
      "metadata": {
        "id": "k8lK6eJrF84T"
      },
      "outputs": [],
      "source": [
        "from sklearn.preprocessing import LabelEncoder\n",
        "import numpy as np\n",
        "\n",
        "# Specify all categorical features\n",
        "categorical_features = ['category', 'gender', 'state', 'merchant', 'city', 'job']\n",
        "\n",
        "# Apply Label Encoding to each categorical column in both train and test sets\n",
        "label_encoders = {}  # To keep track of label encoders for each feature\n",
        "\n",
        "for col in categorical_features:\n",
        "    le = LabelEncoder()\n",
        "    X_train[col] = le.fit_transform(X_train[col])\n",
        "\n",
        "    # Handle unseen labels in the test set\n",
        "    # Get a list of known classes from the training data\n",
        "    known_classes = le.classes_.tolist()\n",
        "\n",
        "    # Replace unknown values in the test set with a placeholder, like 'unknown'\n",
        "    X_test[col] = X_test[col].map(lambda x: x if x in known_classes else 'unknown')\n",
        "\n",
        "    # Update the LabelEncoder with the placeholder class\n",
        "    if 'unknown' not in known_classes:\n",
        "        known_classes.append('unknown')\n",
        "        le.classes_ = np.array(known_classes)\n",
        "\n",
        "    X_test[col] = le.transform(X_test[col])  # Transform test set with updated encoder\n",
        "    label_encoders[col] = le  # Store encoder for potential future use"
      ]
    },
    {
      "cell_type": "code",
      "execution_count": null,
      "metadata": {
        "colab": {
          "base_uri": "https://localhost:8080/"
        },
        "id": "Gf25q3ZRLOm8",
        "outputId": "d5bc13b2-33f2-472e-b604-7393adea2747"
      },
      "outputs": [
        {
          "name": "stdout",
          "output_type": "stream",
          "text": [
            "   merchant  category     amt  gender  city  state      lat      long  \\\n",
            "0       514         8    4.97       0   526     27  36.0788  -81.1781   \n",
            "1       241         4  107.23       0   612     47  48.8878 -118.2105   \n",
            "2       390         0  220.11       1   468     13  42.1808 -112.2620   \n",
            "3       360         2   45.00       1    84     26  46.2306 -112.1138   \n",
            "4       297         9   41.96       1   216     45  38.4207  -79.4629   \n",
            "\n",
            "   city_pop  job  merch_lat  merch_long  hour  day_of_week  \n",
            "0      3495  370  36.011293  -82.048315     0            1  \n",
            "1       149  428  49.159047 -118.186462     0            1  \n",
            "2      4154  307  43.150704 -112.154481     0            1  \n",
            "3      1939  328  47.034331 -112.561071     0            1  \n",
            "4        99  116  38.674999  -78.632459     0            1  \n"
          ]
        }
      ],
      "source": [
        "print(X_train.head())"
      ]
    },
    {
      "cell_type": "code",
      "execution_count": null,
      "metadata": {
        "id": "YIE9hkjTQkK3"
      },
      "outputs": [],
      "source": [
        "from sklearn.preprocessing import StandardScaler\n",
        "\n",
        "# Specify numerical features\n",
        "numeric_features = ['amt', 'lat', 'long', 'merch_lat', 'merch_long', 'city_pop', 'hour', 'day_of_week']\n",
        "\n",
        "# Initialize the scaler\n",
        "scaler = StandardScaler()\n",
        "\n",
        "# Fit and transform the train set, and transform the test set\n",
        "X_train[numeric_features] = scaler.fit_transform(X_train[numeric_features])\n",
        "X_test[numeric_features] = scaler.transform(X_test[numeric_features])"
      ]
    },
    {
      "cell_type": "code",
      "execution_count": null,
      "metadata": {
        "colab": {
          "base_uri": "https://localhost:8080/"
        },
        "id": "CJgkFsofR7CQ",
        "outputId": "dfb32bb1-6249-4796-d4d1-a038e10c9487"
      },
      "outputs": [
        {
          "name": "stderr",
          "output_type": "stream",
          "text": [
            "/usr/local/lib/python3.10/dist-packages/sklearn/linear_model/_logistic.py:469: ConvergenceWarning: lbfgs failed to converge (status=1):\n",
            "STOP: TOTAL NO. of ITERATIONS REACHED LIMIT.\n",
            "\n",
            "Increase the number of iterations (max_iter) or scale the data as shown in:\n",
            "    https://scikit-learn.org/stable/modules/preprocessing.html\n",
            "Please also refer to the documentation for alternative solver options:\n",
            "    https://scikit-learn.org/stable/modules/linear_model.html#logistic-regression\n",
            "  n_iter_i = _check_optimize_result(\n"
          ]
        },
        {
          "name": "stdout",
          "output_type": "stream",
          "text": [
            "Model: Logistic Regression\n",
            "Accuracy: 0.9954671335693039\n",
            "              precision    recall  f1-score   support\n",
            "\n",
            "           0       1.00      1.00      1.00    553574\n",
            "           1       0.00      0.00      0.00      2145\n",
            "\n",
            "    accuracy                           1.00    555719\n",
            "   macro avg       0.50      0.50      0.50    555719\n",
            "weighted avg       0.99      1.00      0.99    555719\n",
            "\n",
            "------------------------------------------------------------\n",
            "Model: Decision Tree\n",
            "Accuracy: 0.9971532375175224\n",
            "              precision    recall  f1-score   support\n",
            "\n",
            "           0       1.00      1.00      1.00    553574\n",
            "           1       0.61      0.71      0.66      2145\n",
            "\n",
            "    accuracy                           1.00    555719\n",
            "   macro avg       0.81      0.85      0.83    555719\n",
            "weighted avg       1.00      1.00      1.00    555719\n",
            "\n",
            "------------------------------------------------------------\n",
            "Model: Random Forest\n",
            "Accuracy: 0.9983516849342924\n",
            "              precision    recall  f1-score   support\n",
            "\n",
            "           0       1.00      1.00      1.00    553574\n",
            "           1       0.92      0.63      0.75      2145\n",
            "\n",
            "    accuracy                           1.00    555719\n",
            "   macro avg       0.96      0.82      0.87    555719\n",
            "weighted avg       1.00      1.00      1.00    555719\n",
            "\n",
            "------------------------------------------------------------\n"
          ]
        }
      ],
      "source": [
        "from sklearn.linear_model import LogisticRegression\n",
        "from sklearn.tree import DecisionTreeClassifier\n",
        "from sklearn.ensemble import RandomForestClassifier\n",
        "from sklearn.metrics import accuracy_score, classification_report\n",
        "\n",
        "# Initialize models\n",
        "models = {\n",
        "    \"Logistic Regression\": LogisticRegression(),\n",
        "    \"Decision Tree\": DecisionTreeClassifier(),\n",
        "    \"Random Forest\": RandomForestClassifier()\n",
        "}\n",
        "\n",
        "# Train and evaluate each model\n",
        "for model_name, model in models.items():\n",
        "    model.fit(X_train, y_train)\n",
        "    y_pred = model.predict(X_test)\n",
        "    print(f\"Model: {model_name}\")\n",
        "    print(f\"Accuracy: {accuracy_score(y_test, y_pred)}\")\n",
        "    print(classification_report(y_test, y_pred))\n",
        "    print('-' * 60)"
      ]
    },
    {
      "cell_type": "markdown",
      "metadata": {
        "id": "gYcEq4EMVLGi"
      },
      "source": [
        "From classification_report we can conclued that modal is not able to classify the fraudulent transactions were it can classify legitimate transactions. results indicate that the models are achieving high overall accuracy, but they are not performing well in detecting fraudulent transactions (the class labeled as 1)"
      ]
    },
    {
      "cell_type": "markdown",
      "metadata": {
        "id": "dOB8qqQKWNse"
      },
      "source": []
    },
    {
      "cell_type": "code",
      "execution_count": null,
      "metadata": {
        "colab": {
          "base_uri": "https://localhost:8080/"
        },
        "id": "ZN1yaMZDV9C1",
        "outputId": "048c31e5-400e-4990-b802-b6cd046195a7"
      },
      "outputs": [
        {
          "name": "stdout",
          "output_type": "stream",
          "text": [
            "Requirement already satisfied: imbalanced-learn in /usr/local/lib/python3.10/dist-packages (0.12.4)\n",
            "Requirement already satisfied: numpy>=1.17.3 in /usr/local/lib/python3.10/dist-packages (from imbalanced-learn) (1.26.4)\n",
            "Requirement already satisfied: scipy>=1.5.0 in /usr/local/lib/python3.10/dist-packages (from imbalanced-learn) (1.13.1)\n",
            "Requirement already satisfied: scikit-learn>=1.0.2 in /usr/local/lib/python3.10/dist-packages (from imbalanced-learn) (1.5.2)\n",
            "Requirement already satisfied: joblib>=1.1.1 in /usr/local/lib/python3.10/dist-packages (from imbalanced-learn) (1.4.2)\n",
            "Requirement already satisfied: threadpoolctl>=2.0.0 in /usr/local/lib/python3.10/dist-packages (from imbalanced-learn) (3.5.0)\n"
          ]
        }
      ],
      "source": [
        "!pip install imbalanced-learn"
      ]
    },
    {
      "cell_type": "code",
      "execution_count": null,
      "metadata": {
        "colab": {
          "base_uri": "https://localhost:8080/"
        },
        "id": "Wcbv8gD-WXNS",
        "outputId": "c08a027e-2558-4cdb-e89b-f84fc2db57dc"
      },
      "outputs": [
        {
          "name": "stdout",
          "output_type": "stream",
          "text": [
            "Original dataset shape: is_fraud\n",
            "0    1289169\n",
            "1       7506\n",
            "Name: count, dtype: int64\n",
            "Resampled dataset shape: is_fraud\n",
            "0    1289169\n",
            "1    1289169\n",
            "Name: count, dtype: int64\n"
          ]
        }
      ],
      "source": [
        "from imblearn.over_sampling import SMOTE\n",
        "from sklearn.model_selection import train_test_split\n",
        "\n",
        "# If you haven't split your dataset yet\n",
        "# X_train, X_test, y_train, y_test = train_test_split(X, y, test_size=0.2, random_state=42)\n",
        "\n",
        "# Apply SMOTE to the training set\n",
        "smote = SMOTE(random_state=42)\n",
        "X_resampled, y_resampled = smote.fit_resample(X_train, y_train)\n",
        "\n",
        "print(f\"Original dataset shape: {y_train.value_counts()}\")\n",
        "print(f\"Resampled dataset shape: {y_resampled.value_counts()}\")\n"
      ]
    },
    {
      "cell_type": "code",
      "execution_count": null,
      "metadata": {
        "colab": {
          "base_uri": "https://localhost:8080/"
        },
        "id": "WykLomAcWrOa",
        "outputId": "d9b6e174-3dbf-41c9-ab4b-a474b529b2c6"
      },
      "outputs": [
        {
          "name": "stderr",
          "output_type": "stream",
          "text": [
            "/usr/local/lib/python3.10/dist-packages/sklearn/linear_model/_logistic.py:469: ConvergenceWarning: lbfgs failed to converge (status=1):\n",
            "STOP: TOTAL NO. of ITERATIONS REACHED LIMIT.\n",
            "\n",
            "Increase the number of iterations (max_iter) or scale the data as shown in:\n",
            "    https://scikit-learn.org/stable/modules/preprocessing.html\n",
            "Please also refer to the documentation for alternative solver options:\n",
            "    https://scikit-learn.org/stable/modules/linear_model.html#logistic-regression\n",
            "  n_iter_i = _check_optimize_result(\n"
          ]
        },
        {
          "name": "stdout",
          "output_type": "stream",
          "text": [
            "Model: Logistic Regression\n",
            "Accuracy: 0.9427336477608288\n",
            "              precision    recall  f1-score   support\n",
            "\n",
            "           0       1.00      0.94      0.97    553574\n",
            "           1       0.05      0.76      0.09      2145\n",
            "\n",
            "    accuracy                           0.94    555719\n",
            "   macro avg       0.52      0.85      0.53    555719\n",
            "weighted avg       1.00      0.94      0.97    555719\n",
            "\n",
            "------------------------------------------------------------\n",
            "Model: Decision Tree\n",
            "Accuracy: 0.9906355550197132\n",
            "              precision    recall  f1-score   support\n",
            "\n",
            "           0       1.00      0.99      1.00    553574\n",
            "           1       0.24      0.67      0.36      2145\n",
            "\n",
            "    accuracy                           0.99    555719\n",
            "   macro avg       0.62      0.83      0.68    555719\n",
            "weighted avg       1.00      0.99      0.99    555719\n",
            "\n",
            "------------------------------------------------------------\n",
            "Model: Random Forest\n",
            "Accuracy: 0.9954887272164529\n",
            "              precision    recall  f1-score   support\n",
            "\n",
            "           0       1.00      1.00      1.00    553574\n",
            "           1       0.44      0.63      0.52      2145\n",
            "\n",
            "    accuracy                           1.00    555719\n",
            "   macro avg       0.72      0.82      0.76    555719\n",
            "weighted avg       1.00      1.00      1.00    555719\n",
            "\n",
            "------------------------------------------------------------\n"
          ]
        }
      ],
      "source": [
        "from sklearn.linear_model import LogisticRegression\n",
        "from sklearn.tree import DecisionTreeClassifier\n",
        "from sklearn.ensemble import RandomForestClassifier\n",
        "from sklearn.metrics import accuracy_score, classification_report\n",
        "\n",
        "# Initialize models\n",
        "models = {\n",
        "    \"Logistic Regression\": LogisticRegression(class_weight='balanced', max_iter=500),  # Increase max_iter\n",
        "    \"Decision Tree\": DecisionTreeClassifier(class_weight='balanced'),\n",
        "    \"Random Forest\": RandomForestClassifier(class_weight='balanced')\n",
        "}\n",
        "\n",
        "# Train and evaluate each model\n",
        "for model_name, model in models.items():\n",
        "    model.fit(X_resampled, y_resampled)\n",
        "    y_pred = model.predict(X_test)\n",
        "    print(f\"Model: {model_name}\")\n",
        "    print(f\"Accuracy: {accuracy_score(y_test, y_pred)}\")\n",
        "    print(classification_report(y_test, y_pred))\n",
        "    print('-' * 60)"
      ]
    },
    {
      "cell_type": "code",
      "execution_count": null,
      "metadata": {
        "colab": {
          "base_uri": "https://localhost:8080/"
        },
        "id": "Vl1JaB_2WxTp",
        "outputId": "749b092a-3dd0-4b8b-dc4e-921c360d380b"
      },
      "outputs": [
        {
          "name": "stdout",
          "output_type": "stream",
          "text": [
            "Adjusted Predictions for Logistic Regression:\n",
            "              precision    recall  f1-score   support\n",
            "\n",
            "           0       1.00      0.91      0.95    553574\n",
            "           1       0.03      0.77      0.06      2145\n",
            "\n",
            "    accuracy                           0.91    555719\n",
            "   macro avg       0.52      0.84      0.51    555719\n",
            "weighted avg       1.00      0.91      0.95    555719\n",
            "\n"
          ]
        }
      ],
      "source": [
        "# Example for Logistic Regression\n",
        "threshold = 0.4  # Adjust this based on desired precision/recall trade-off\n",
        "\n",
        "# Get predicted probabilities\n",
        "y_prob = models[\"Logistic Regression\"].predict_proba(X_test)[:, 1]\n",
        "\n",
        "# Adjust predictions based on the new threshold\n",
        "y_pred_adjusted = (y_prob >= threshold).astype(int)\n",
        "\n",
        "print(f\"Adjusted Predictions for Logistic Regression:\")\n",
        "print(classification_report(y_test, y_pred_adjusted))"
      ]
    },
    {
      "cell_type": "code",
      "execution_count": null,
      "metadata": {
        "colab": {
          "background_save": true,
          "base_uri": "https://localhost:8080/"
        },
        "id": "ENj4dT6djK2Y",
        "outputId": "3d992e79-9d05-4ac6-ee26-6472247da97f"
      },
      "outputs": [
        {
          "name": "stdout",
          "output_type": "stream",
          "text": [
            "Fitting 3 folds for each of 12 candidates, totalling 36 fits\n",
            "[CV] END class_weight=balanced, max_depth=None, min_samples_split=2, n_estimators=100; total time=18.7min\n",
            "[CV] END class_weight=balanced, max_depth=None, min_samples_split=2, n_estimators=100; total time=19.5min\n",
            "[CV] END class_weight=balanced, max_depth=None, min_samples_split=2, n_estimators=100; total time=19.9min\n",
            "[CV] END class_weight=balanced, max_depth=None, min_samples_split=2, n_estimators=200; total time=39.1min\n",
            "[CV] END class_weight=balanced, max_depth=None, min_samples_split=2, n_estimators=200; total time=38.5min\n",
            "[CV] END class_weight=balanced, max_depth=None, min_samples_split=2, n_estimators=200; total time=36.9min\n"
          ]
        }
      ],
      "source": [
        "from sklearn.model_selection import GridSearchCV\n",
        "\n",
        "# Define the parameter grid for Random Forest\n",
        "param_grid = {\n",
        "    'n_estimators': [100, 200],          # Number of trees\n",
        "    'max_depth': [None, 10, 20],         # Maximum depth of the tree\n",
        "    'min_samples_split': [2, 5],         # Minimum samples required to split an internal node\n",
        "    'class_weight': ['balanced']          # Handle imbalanced classes\n",
        "}\n",
        "\n",
        "# Initialize Random Forest Classifier\n",
        "rf = RandomForestClassifier()\n",
        "\n",
        "# Set up Grid Search\n",
        "grid_search = GridSearchCV(estimator=rf, param_grid=param_grid, cv=3, scoring='f1', verbose=2)\n",
        "grid_search.fit(X_resampled, y_resampled)\n",
        "\n",
        "# Best parameters and estimator\n",
        "print(\"Best Parameters for Random Forest: \", grid_search.best_params_)\n",
        "best_rf_model = grid_search.best_estimator_\n",
        "\n",
        "# Evaluate the best model on the test set\n",
        "y_pred_best_rf = best_rf_model.predict(X_test)\n",
        "print(\"Best Random Forest Model Accuracy: \", accuracy_score(y_test, y_pred_best_rf))\n",
        "print(classification_report(y_test, y_pred_best_rf))"
      ]
    },
    {
      "cell_type": "code",
      "execution_count": null,
      "metadata": {
        "id": "hqool_oyjdgZ"
      },
      "outputs": [],
      "source": [
        "from sklearn.metrics import confusion_matrix\n",
        "\n",
        "# Evaluate the confusion matrix\n",
        "cm = confusion_matrix(y_test, y_pred_adjusted)\n",
        "print(\"Confusion Matrix:\")\n",
        "print(cm)\n",
        "\n",
        "# Calculate additional metrics\n",
        "tn, fp, fn, tp = cm.ravel()\n",
        "precision = tp / (tp + fp) if (tp + fp) > 0 else 0\n",
        "recall = tp / (tp + fn) if (tp + fn) > 0 else 0\n",
        "f1 = 2 * (precision * recall) / (precision + recall) if (precision + recall) > 0 else 0\n",
        "\n",
        "print(f\"Precision: {precision:.4f}\")\n",
        "print(f\"Recall: {recall:.4f}\")\n",
        "print(f\"F1 Score: {f1:.4f}\")\n"
      ]
    }
  ],
  "metadata": {
    "colab": {
      "provenance": [],
      "authorship_tag": "ABX9TyMmtJQhON2v4sIowj51cnhj",
      "include_colab_link": true
    },
    "kernelspec": {
      "display_name": "Python 3",
      "name": "python3"
    },
    "language_info": {
      "name": "python"
    }
  },
  "nbformat": 4,
  "nbformat_minor": 0
}